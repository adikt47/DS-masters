{
 "cells": [
  {
   "cell_type": "code",
   "execution_count": 2,
   "id": "72a5ab74-6246-41cf-a796-2e46e2e3631d",
   "metadata": {},
   "outputs": [
    {
     "name": "stdout",
     "output_type": "stream",
     "text": [
      "You are old\n"
     ]
    }
   ],
   "source": [
    "age=29\n",
    "if age>26:\n",
    "    print(\"You are old\")"
   ]
  },
  {
   "cell_type": "code",
   "execution_count": 16,
   "id": "f293eb25-2102-4ea1-8f4a-caa9a59ebf4a",
   "metadata": {},
   "outputs": [
    {
     "name": "stdin",
     "output_type": "stream",
     "text": [
      "Please enter your age: 20\n"
     ]
    },
    {
     "name": "stdout",
     "output_type": "stream",
     "text": [
      "You are young\n"
     ]
    }
   ],
   "source": [
    "age=int(input(\"Please enter your age:\"))\n",
    "if age>25:\n",
    "        print(\"You are an old chap\")\n",
    "else:\n",
    "        print(\"You are young\")"
   ]
  },
  {
   "cell_type": "code",
   "execution_count": 53,
   "id": "6dc8404e-9478-4f93-a946-3649030451b6",
   "metadata": {},
   "outputs": [
    {
     "name": "stdin",
     "output_type": "stream",
     "text": [
      "Enter price: 3999\n"
     ]
    },
    {
     "name": "stdout",
     "output_type": "stream",
     "text": [
      "gift\n",
      "no gift\n"
     ]
    }
   ],
   "source": [
    "pp=int(input(\"Enter price:\"))\n",
    "if pp>3000:\n",
    "    if pp==3999:\n",
    "        print(\"gift\")\n",
    "        print(\"no gift\")\n",
    "else:\n",
    "          print(\"bye bye\")"
   ]
  },
  {
   "cell_type": "code",
   "execution_count": 58,
   "id": "c043e921-323a-4953-a9c8-a0536564dde2",
   "metadata": {},
   "outputs": [
    {
     "name": "stdin",
     "output_type": "stream",
     "text": [
      "Enter age: 20\n"
     ]
    },
    {
     "name": "stdout",
     "output_type": "stream",
     "text": [
      "this is wrong\n"
     ]
    }
   ],
   "source": [
    "age=int(input(\"Enter age:\"))\n",
    "if age>20: print(\"is this correct?\")\n",
    "else: print(\"this is wrong\")"
   ]
  },
  {
   "cell_type": "code",
   "execution_count": null,
   "id": "a51a8268-8918-4a1b-942d-76a116b4b7be",
   "metadata": {},
   "outputs": [],
   "source": []
  }
 ],
 "metadata": {
  "kernelspec": {
   "display_name": "Python 3 (ipykernel)",
   "language": "python",
   "name": "python3"
  },
  "language_info": {
   "codemirror_mode": {
    "name": "ipython",
    "version": 3
   },
   "file_extension": ".py",
   "mimetype": "text/x-python",
   "name": "python",
   "nbconvert_exporter": "python",
   "pygments_lexer": "ipython3",
   "version": "3.10.8"
  }
 },
 "nbformat": 4,
 "nbformat_minor": 5
}
