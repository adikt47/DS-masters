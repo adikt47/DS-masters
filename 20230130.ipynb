{
 "cells": [
  {
   "cell_type": "code",
   "execution_count": 2,
   "id": "7d535837-f890-403f-9933-1218e4a853e0",
   "metadata": {},
   "outputs": [
    {
     "name": "stdout",
     "output_type": "stream",
     "text": [
      "Test\n"
     ]
    }
   ],
   "source": [
    "print(\"Test\")"
   ]
  },
  {
   "cell_type": "code",
   "execution_count": 3,
   "id": "ad722fc1-fb3f-4c1d-ba99-dc80b8fd3af7",
   "metadata": {},
   "outputs": [
    {
     "name": "stdout",
     "output_type": "stream",
     "text": [
      "123\n"
     ]
    }
   ],
   "source": [
    "print(123)"
   ]
  },
  {
   "cell_type": "code",
   "execution_count": 4,
   "id": "238ef31a-d854-45e2-b950-b3890e2a4162",
   "metadata": {},
   "outputs": [
    {
     "ename": "NameError",
     "evalue": "name 'Test' is not defined",
     "output_type": "error",
     "traceback": [
      "\u001b[0;31m---------------------------------------------------------------------------\u001b[0m",
      "\u001b[0;31mNameError\u001b[0m                                 Traceback (most recent call last)",
      "Cell \u001b[0;32mIn[4], line 1\u001b[0m\n\u001b[0;32m----> 1\u001b[0m \u001b[43mTest\u001b[49m\n",
      "\u001b[0;31mNameError\u001b[0m: name 'Test' is not defined"
     ]
    }
   ],
   "source": [
    "Test"
   ]
  },
  {
   "cell_type": "code",
   "execution_count": 5,
   "id": "bece3809-67b8-470f-b0a5-acd6ff17e4ef",
   "metadata": {},
   "outputs": [
    {
     "name": "stdout",
     "output_type": "stream",
     "text": [
      "My age is: 26\n"
     ]
    }
   ],
   "source": [
    "age=26\n",
    "print(\"My age is:\",age)"
   ]
  },
  {
   "cell_type": "code",
   "execution_count": 7,
   "id": "6f1035bc-6e81-4ebe-af78-6b07c305e30e",
   "metadata": {},
   "outputs": [
    {
     "name": "stdout",
     "output_type": "stream",
     "text": [
      "My age is:26\n"
     ]
    }
   ],
   "source": [
    "print(f\"My age is:{26}\")"
   ]
  },
  {
   "cell_type": "code",
   "execution_count": 8,
   "id": "ab4c6117-1599-4636-91b1-87953f3055a0",
   "metadata": {},
   "outputs": [
    {
     "name": "stdout",
     "output_type": "stream",
     "text": [
      "My name is Adi and age is 26\n"
     ]
    }
   ],
   "source": [
    "Age=26\n",
    "Name=\"Adi\"\n",
    "print(\"My name is {fname} and age is {fage}\".format(fname=Name,fage=Age))"
   ]
  },
  {
   "cell_type": "code",
   "execution_count": 13,
   "id": "e6afa936-fd7f-4816-98d4-2f33aa046d6a",
   "metadata": {},
   "outputs": [
    {
     "name": "stdout",
     "output_type": "stream",
     "text": [
      "My age is 32, I have completed my degree in BE with the name adi\n"
     ]
    }
   ],
   "source": [
    "name=\"adi\"\n",
    "age=32\n",
    "degree=\"BE\"\n",
    "print(\"My age is {fage}, I have completed my degree in {fdegree} with the name {fname}\".format(fname=name,fage=age,fdegree=degree))"
   ]
  },
  {
   "cell_type": "code",
   "execution_count": 14,
   "id": "aa25d85f-3f6a-4943-98af-8dbc93fd77d1",
   "metadata": {},
   "outputs": [
    {
     "name": "stdout",
     "output_type": "stream",
     "text": [
      "You are older than 20 years\n"
     ]
    }
   ],
   "source": [
    "age=26\n",
    "if age>20:\n",
    "    print(\"You are older than 20 years\")"
   ]
  },
  {
   "cell_type": "code",
   "execution_count": 18,
   "id": "13defd88-f5a0-46ff-b040-337067bf9260",
   "metadata": {},
   "outputs": [
    {
     "name": "stdin",
     "output_type": "stream",
     "text": [
      "mage \n"
     ]
    },
    {
     "ename": "NameError",
     "evalue": "name 'mage' is not defined",
     "output_type": "error",
     "traceback": [
      "\u001b[0;31m---------------------------------------------------------------------------\u001b[0m",
      "\u001b[0;31mNameError\u001b[0m                                 Traceback (most recent call last)",
      "Cell \u001b[0;32mIn[18], line 2\u001b[0m\n\u001b[1;32m      1\u001b[0m \u001b[38;5;28minput\u001b[39m(\u001b[38;5;124m\"\u001b[39m\u001b[38;5;124mmage\u001b[39m\u001b[38;5;124m\"\u001b[39m)\n\u001b[0;32m----> 2\u001b[0m \u001b[38;5;28;01mif\u001b[39;00m \u001b[43mmage\u001b[49m\u001b[38;5;241m>\u001b[39m\u001b[38;5;241m20\u001b[39m:\n\u001b[1;32m      3\u001b[0m     \u001b[38;5;28mprint\u001b[39m(\u001b[38;5;124m\"\u001b[39m\u001b[38;5;124mEnter less age\u001b[39m\u001b[38;5;124m\"\u001b[39m)\n",
      "\u001b[0;31mNameError\u001b[0m: name 'mage' is not defined"
     ]
    }
   ],
   "source": [
    "input(\"mage\")\n",
    "if mage>20:\n",
    "    print(\"Enter less age\")"
   ]
  },
  {
   "cell_type": "code",
   "execution_count": 21,
   "id": "5d3adbec-3360-4f9a-ae09-01234ded2232",
   "metadata": {},
   "outputs": [
    {
     "name": "stdin",
     "output_type": "stream",
     "text": [
      "Enter your age 26\n"
     ]
    },
    {
     "name": "stdout",
     "output_type": "stream",
     "text": [
      "You are an old chap\n"
     ]
    }
   ],
   "source": [
    "age=int(input(\"Enter your age\"))\n",
    "if age>20:\n",
    "    print(\"You are an old chap\")"
   ]
  },
  {
   "cell_type": "code",
   "execution_count": 37,
   "id": "68b54a6c-c912-4f16-b568-e7a2409b4e45",
   "metadata": {},
   "outputs": [
    {
     "name": "stdin",
     "output_type": "stream",
     "text": [
      "Enter your age: 66\n"
     ]
    },
    {
     "name": "stdout",
     "output_type": "stream",
     "text": [
      "You are old\n"
     ]
    }
   ],
   "source": [
    "age=int(input(\"Enter your age:\"))\n",
    "if age>=18 and age<=45:\n",
    "    print(\"You are young blood\")\n",
    "else:\n",
    "        print(\"You are old\")"
   ]
  },
  {
   "cell_type": "code",
   "execution_count": 23,
   "id": "0358983d-f670-4c25-89dc-03667506e835",
   "metadata": {},
   "outputs": [
    {
     "data": {
      "text/plain": [
       "26"
      ]
     },
     "execution_count": 23,
     "metadata": {},
     "output_type": "execute_result"
    }
   ],
   "source": [
    "age"
   ]
  },
  {
   "cell_type": "code",
   "execution_count": null,
   "id": "00453fdc-543e-4162-9a57-d603f1540214",
   "metadata": {},
   "outputs": [],
   "source": [
    "###Calculation inside if else\n",
    "price=int(input(\"Welcome to Adi's mall, please let us know the product amount:\"))\n",
    "sol=price-(10/100*price)\n",
    "sol1=price-(20/100*price)\n",
    "if price<1000:\n",
    "    print(\"Congrats, youa re eligible for 10% discount and your final amount will be {cal}\".format(cal=sol))\n",
    "else :\n",
    "    print(\"Congrats, youa re eligible for 20% discount and your final amount will be {cal1}\".format(cal1=sol1))"
   ]
  },
  {
   "cell_type": "code",
   "execution_count": null,
   "id": "aa77f6de-a6ca-41ad-9f79-2515ed575605",
   "metadata": {},
   "outputs": [],
   "source": []
  }
 ],
 "metadata": {
  "kernelspec": {
   "display_name": "Python 3 (ipykernel)",
   "language": "python",
   "name": "python3"
  },
  "language_info": {
   "codemirror_mode": {
    "name": "ipython",
    "version": 3
   },
   "file_extension": ".py",
   "mimetype": "text/x-python",
   "name": "python",
   "nbconvert_exporter": "python",
   "pygments_lexer": "ipython3",
   "version": "3.10.8"
  }
 },
 "nbformat": 4,
 "nbformat_minor": 5
}
